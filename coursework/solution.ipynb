{
 "cells": [
  {
   "cell_type": "markdown",
   "metadata": {},
   "source": [
    "# Тема 3. Выбрать марку автомобиля, скачать не менее 500 объявлений о продаже и построить модель ценообразования.\n",
    "• Найти и прочитать данные для исследования. \\\n",
    "• Построить вероятностную модель. \\\n",
    "• Проконсультироваться с лектором о выборе модели. \\\n",
    "• Исследовать значимость параметров модели и исключить незначимые. \\\n",
    "• Исследовать адекватность модели статистическим тестом \n",
    "и/или стохастическим моделированием, кросс-валидацией. \\\n",
    "• На основании этого исследования исправить модель, а затем \n",
    "проверить адекватность исправленной модели.\n"
   ]
  },
  {
   "cell_type": "markdown",
   "metadata": {},
   "source": [
    "В качестве марки автомобиля выберем Toyota."
   ]
  },
  {
   "cell_type": "markdown",
   "metadata": {},
   "source": [
    "Типы коробок передач:\n",
    "- Механическая коробка передач (Manual Transmission, MT)\n",
    "- Роботизированная коробка передач (Automated Manual Transmission, AMT)\n",
    "- Автоматическая коробка передач (Automatic Transmission, AT)\n",
    "- Вариатор (Continuously Variable Transmission, CVT)"
   ]
  },
  {
   "cell_type": "code",
   "execution_count": 42,
   "metadata": {},
   "outputs": [],
   "source": [
    "import re\n",
    "from collections import Counter\n",
    "from time import sleep\n",
    "\n",
    "import pandas as pd\n",
    "from bs4 import BeautifulSoup\n",
    "from bs4.element import Tag\n",
    "from selenium import webdriver\n",
    "from selenium.webdriver import ActionChains\n",
    "from selenium.webdriver.common.by import By\n",
    "from selenium.webdriver.support import expected_conditions as EC\n",
    "from selenium.webdriver.support.wait import WebDriverWait"
   ]
  },
  {
   "cell_type": "code",
   "execution_count": 44,
   "metadata": {},
   "outputs": [],
   "source": [
    "AUTO_RU_BASE_URL = \"https://auto.ru/cars/{brand}/all/\"\n",
    "BRAND = \"mazda\"\n",
    "\n",
    "BUTTON_CLASS = \"ListingPagination__moreButton\"\n",
    "N_PAGES = 40"
   ]
  },
  {
   "cell_type": "code",
   "execution_count": 45,
   "metadata": {},
   "outputs": [],
   "source": [
    "driver = webdriver.Chrome()\n",
    "wait = WebDriverWait(driver, 10)\n",
    "ac = ActionChains(driver)\n",
    "\n",
    "url = AUTO_RU_BASE_URL.format(brand=BRAND)\n",
    "driver.get(url)\n",
    "wait.until(\n",
    "    EC.presence_of_element_located((By.CLASS_NAME, \"ListingCars_outputType_list\"))\n",
    ")\n",
    "button = driver.find_element(By.CLASS_NAME, BUTTON_CLASS)\n",
    "\n",
    "for n_page in range(1, N_PAGES):\n",
    "    wait.until(EC.element_to_be_clickable((By.CLASS_NAME, BUTTON_CLASS)))\n",
    "    ac.move_to_element(button).click().perform()\n",
    "    sleep(3)\n",
    "\n",
    "soup = BeautifulSoup(driver.page_source, \"html.parser\")\n",
    "\n",
    "driver.quit()"
   ]
  },
  {
   "cell_type": "code",
   "execution_count": 62,
   "metadata": {},
   "outputs": [],
   "source": [
    "class Car:\n",
    "    def __init__(\n",
    "        self,\n",
    "        name: str,\n",
    "        price: str,\n",
    "        km_age: str,\n",
    "        year: str,\n",
    "        engine_characteristics: str,\n",
    "        gearbox: str,\n",
    "        car_body: str,\n",
    "        transmission_type: str,\n",
    "        color: str,\n",
    "        link: str,\n",
    "    ) -> None:\n",
    "        self.name = name\n",
    "        self.price = self.digit_serializer(price)\n",
    "        self.km_age = self.digit_serializer(km_age)\n",
    "        self.year = int(year)\n",
    "\n",
    "        self.engine_volume = float(engine_characteristics.split(\"/\")[0].strip().split()[0])\n",
    "        self.engine_power = self.digit_serializer(engine_characteristics.split(\"/\")[1].strip())\n",
    "        self.fuel_type = engine_characteristics.split(\"/\")[2].strip().lower()\n",
    "\n",
    "        self.gearbox = gearbox\n",
    "        self.car_body = car_body\n",
    "        self.transmission_type = transmission_type\n",
    "        self.color = color\n",
    "        self.link = link\n",
    "\n",
    "    def __repr__(self) -> str:\n",
    "        _str = f\"{self.name}: \"\n",
    "        _str += f\"{self.price}₽, {self.km_age} км, {self.year}, \"\n",
    "        _str += f\"{self.engine_volume}, {self.engine_power}, \"\n",
    "        _str += f\"{self.fuel_type}, {self.gearbox}, {self.car_body}, \"\n",
    "        _str += f\"{self.transmission_type}, {self.color}\"\n",
    "        return _str\n",
    "\n",
    "    @staticmethod\n",
    "    def digit_serializer(text: str) -> int:\n",
    "        digits = re.sub(r\"\\D\", \"\", text)\n",
    "        if not digits:\n",
    "            return 0\n",
    "        return int(digits)\n",
    "\n",
    "\n",
    "def parse_advert(advert: Tag) -> Car:\n",
    "    description = advert.find(\"div\", class_=\"ListingItem__description\")\n",
    "\n",
    "    summary_block = description.find(\"div\", class_=\"ListingItem__summary\")\n",
    "    name = summary_block.find(\"div\", class_=\"ListingItem__title\").text\n",
    "    link = summary_block.find(\"a\", class_=\"ListingItemTitle__link\").get(\"href\")\n",
    "\n",
    "    tech_summary = description.find(\"div\", class_=\"ListingItem__techSummary\")\n",
    "    tech_column_first, tech_column_second = tech_summary.find_all(\n",
    "        \"div\", class_=\"ListingItemTechSummaryDesktop__column\"\n",
    "    )\n",
    "    \n",
    "    engine_characteristics_cell, gearbox_cell, car_body_cell = tech_column_first.find_all(\n",
    "        \"div\", class_=\"ListingItemTechSummaryDesktop__cell\"\n",
    "    )\n",
    "    engine_characteristics = engine_characteristics_cell.text\n",
    "    gearbox = gearbox_cell.text\n",
    "    car_body = car_body_cell.text\n",
    "\n",
    "    second_col_cells = tech_column_second.find_all(\n",
    "        \"div\", class_=\"ListingItemTechSummaryDesktop__cell\"\n",
    "    )\n",
    "    transmission_type = second_col_cells[0].text\n",
    "    if len(second_col_cells) == 2:\n",
    "        color = second_col_cells[1].text\n",
    "    else:\n",
    "        color = \"\"\n",
    "\n",
    "    price_block = description.find(\"div\", class_=\"ListingItem__price\")\n",
    "    price_tag = price_block.find(\"div\", class_=\"ListingItemPrice__content\")\n",
    "    if price_tag is None:\n",
    "        price_tag = price_block\n",
    "    price = price_tag.text\n",
    "\n",
    "    year_block = description.find(\"div\", class_=\"ListingItem__yearBlock\")\n",
    "    year = year_block.find(\"div\", class_=\"ListingItem__year\").text\n",
    "\n",
    "    km_age_block = description.find(\"div\", class_=\"ListingItem__kmAgeAndActionsBlock\")\n",
    "    km_age = km_age_block.find(\"div\", class_=\"ListingItem__kmAge\").text\n",
    "\n",
    "    car = Car(\n",
    "        name,\n",
    "        price,\n",
    "        km_age,\n",
    "        year,\n",
    "        engine_characteristics,\n",
    "        gearbox,\n",
    "        car_body,\n",
    "        transmission_type,\n",
    "        color,\n",
    "        link,\n",
    "    )\n",
    "    return car"
   ]
  },
  {
   "cell_type": "code",
   "execution_count": 47,
   "metadata": {},
   "outputs": [
    {
     "data": {
      "text/plain": [
       "1184"
      ]
     },
     "execution_count": 47,
     "metadata": {},
     "output_type": "execute_result"
    }
   ],
   "source": [
    "adverts = soup.find_all(\"div\", class_=\"ListingItem\")\n",
    "\n",
    "len(adverts)"
   ]
  },
  {
   "cell_type": "code",
   "execution_count": 63,
   "metadata": {},
   "outputs": [
    {
     "data": {
      "text/plain": [
       "[Mazda CX-9 II Рестайлинг: 6180000₽, 0 км, 2024, 2.5, 231, бензин, автомат, внедорожник 5 дв., полный, ,\n",
       " Mazda CX-9 II: 3000000₽, 163112 км, 2019, 2.5, 231, бензин, автомат, внедорожник 5 дв., полный, синий,\n",
       " Mazda CX-5 II Рестайлинг: 5550000₽, 0 км, 2023, 2.5, 196, бензин, автомат, внедорожник 5 дв., полный, ,\n",
       " Mazda CX-5 II: 2611000₽, 102107 км, 2019, 2.0, 150, бензин, автомат, внедорожник 5 дв., полный, коричневый,\n",
       " Mazda CX-5 II: 3127000₽, 72000 км, 2020, 2.0, 150, бензин, автомат, внедорожник 5 дв., полный, чёрный]"
      ]
     },
     "execution_count": 63,
     "metadata": {},
     "output_type": "execute_result"
    }
   ],
   "source": [
    "cars_data = [parse_advert(advert) for advert in adverts]\n",
    "\n",
    "cars_data[:5]"
   ]
  },
  {
   "cell_type": "code",
   "execution_count": 64,
   "metadata": {},
   "outputs": [
    {
     "name": "stdout",
     "output_type": "stream",
     "text": [
      "0\n",
      "[]\n"
     ]
    }
   ],
   "source": [
    "duplicates = [item for item, count in Counter(cars_data).items() if count > 1]\n",
    "\n",
    "print(len(duplicates))\n",
    "print(duplicates)"
   ]
  },
  {
   "cell_type": "code",
   "execution_count": 65,
   "metadata": {},
   "outputs": [
    {
     "data": {
      "text/html": [
       "<div>\n",
       "<style scoped>\n",
       "    .dataframe tbody tr th:only-of-type {\n",
       "        vertical-align: middle;\n",
       "    }\n",
       "\n",
       "    .dataframe tbody tr th {\n",
       "        vertical-align: top;\n",
       "    }\n",
       "\n",
       "    .dataframe thead th {\n",
       "        text-align: right;\n",
       "    }\n",
       "</style>\n",
       "<table border=\"1\" class=\"dataframe\">\n",
       "  <thead>\n",
       "    <tr style=\"text-align: right;\">\n",
       "      <th></th>\n",
       "      <th>name</th>\n",
       "      <th>price</th>\n",
       "      <th>km_age</th>\n",
       "      <th>year</th>\n",
       "      <th>engine_volume</th>\n",
       "      <th>engine_power</th>\n",
       "      <th>fuel_type</th>\n",
       "      <th>gearbox</th>\n",
       "      <th>car_body</th>\n",
       "      <th>transmission_type</th>\n",
       "      <th>color</th>\n",
       "      <th>link</th>\n",
       "    </tr>\n",
       "  </thead>\n",
       "  <tbody>\n",
       "    <tr>\n",
       "      <th>0</th>\n",
       "      <td>Mazda CX-9 II Рестайлинг</td>\n",
       "      <td>6180000</td>\n",
       "      <td>0</td>\n",
       "      <td>2024</td>\n",
       "      <td>2.5</td>\n",
       "      <td>231</td>\n",
       "      <td>бензин</td>\n",
       "      <td>автомат</td>\n",
       "      <td>внедорожник 5 дв.</td>\n",
       "      <td>полный</td>\n",
       "      <td></td>\n",
       "      <td>https://auto.ru/cars/new/group/mazda/cx_9/2277...</td>\n",
       "    </tr>\n",
       "    <tr>\n",
       "      <th>1</th>\n",
       "      <td>Mazda CX-9 II</td>\n",
       "      <td>3000000</td>\n",
       "      <td>163112</td>\n",
       "      <td>2019</td>\n",
       "      <td>2.5</td>\n",
       "      <td>231</td>\n",
       "      <td>бензин</td>\n",
       "      <td>автомат</td>\n",
       "      <td>внедорожник 5 дв.</td>\n",
       "      <td>полный</td>\n",
       "      <td>синий</td>\n",
       "      <td>https://auto.ru/cars/used/sale/mazda/cx_9/1126...</td>\n",
       "    </tr>\n",
       "    <tr>\n",
       "      <th>2</th>\n",
       "      <td>Mazda CX-5 II Рестайлинг</td>\n",
       "      <td>5550000</td>\n",
       "      <td>0</td>\n",
       "      <td>2023</td>\n",
       "      <td>2.5</td>\n",
       "      <td>196</td>\n",
       "      <td>бензин</td>\n",
       "      <td>автомат</td>\n",
       "      <td>внедорожник 5 дв.</td>\n",
       "      <td>полный</td>\n",
       "      <td></td>\n",
       "      <td>https://auto.ru/cars/new/group/mazda/cx_5/2355...</td>\n",
       "    </tr>\n",
       "    <tr>\n",
       "      <th>3</th>\n",
       "      <td>Mazda CX-5 II</td>\n",
       "      <td>2611000</td>\n",
       "      <td>102107</td>\n",
       "      <td>2019</td>\n",
       "      <td>2.0</td>\n",
       "      <td>150</td>\n",
       "      <td>бензин</td>\n",
       "      <td>автомат</td>\n",
       "      <td>внедорожник 5 дв.</td>\n",
       "      <td>полный</td>\n",
       "      <td>коричневый</td>\n",
       "      <td>https://auto.ru/cars/used/sale/mazda/cx_5/1125...</td>\n",
       "    </tr>\n",
       "    <tr>\n",
       "      <th>4</th>\n",
       "      <td>Mazda CX-5 II</td>\n",
       "      <td>3127000</td>\n",
       "      <td>72000</td>\n",
       "      <td>2020</td>\n",
       "      <td>2.0</td>\n",
       "      <td>150</td>\n",
       "      <td>бензин</td>\n",
       "      <td>автомат</td>\n",
       "      <td>внедорожник 5 дв.</td>\n",
       "      <td>полный</td>\n",
       "      <td>чёрный</td>\n",
       "      <td>https://auto.ru/cars/used/sale/mazda/cx_5/1126...</td>\n",
       "    </tr>\n",
       "  </tbody>\n",
       "</table>\n",
       "</div>"
      ],
      "text/plain": [
       "                       name    price  km_age  year  engine_volume  \\\n",
       "0  Mazda CX-9 II Рестайлинг  6180000       0  2024            2.5   \n",
       "1             Mazda CX-9 II  3000000  163112  2019            2.5   \n",
       "2  Mazda CX-5 II Рестайлинг  5550000       0  2023            2.5   \n",
       "3             Mazda CX-5 II  2611000  102107  2019            2.0   \n",
       "4             Mazda CX-5 II  3127000   72000  2020            2.0   \n",
       "\n",
       "   engine_power fuel_type  gearbox           car_body transmission_type  \\\n",
       "0           231    бензин  автомат  внедорожник 5 дв.            полный   \n",
       "1           231    бензин  автомат  внедорожник 5 дв.            полный   \n",
       "2           196    бензин  автомат  внедорожник 5 дв.            полный   \n",
       "3           150    бензин  автомат  внедорожник 5 дв.            полный   \n",
       "4           150    бензин  автомат  внедорожник 5 дв.            полный   \n",
       "\n",
       "        color                                               link  \n",
       "0              https://auto.ru/cars/new/group/mazda/cx_9/2277...  \n",
       "1       синий  https://auto.ru/cars/used/sale/mazda/cx_9/1126...  \n",
       "2              https://auto.ru/cars/new/group/mazda/cx_5/2355...  \n",
       "3  коричневый  https://auto.ru/cars/used/sale/mazda/cx_5/1125...  \n",
       "4      чёрный  https://auto.ru/cars/used/sale/mazda/cx_5/1126...  "
      ]
     },
     "execution_count": 65,
     "metadata": {},
     "output_type": "execute_result"
    }
   ],
   "source": [
    "df = pd.DataFrame([vars(car) for car in cars_data])\n",
    "\n",
    "df.head()"
   ]
  },
  {
   "cell_type": "code",
   "execution_count": 67,
   "metadata": {},
   "outputs": [],
   "source": [
    "df.drop(\"link\", axis=1).to_csv(f\"{BRAND}_cars_no_link.csv\", index=False, encoding=\"utf-16\")"
   ]
  }
 ],
 "metadata": {
  "kernelspec": {
   "display_name": ".venv",
   "language": "python",
   "name": "python3"
  },
  "language_info": {
   "codemirror_mode": {
    "name": "ipython",
    "version": 3
   },
   "file_extension": ".py",
   "mimetype": "text/x-python",
   "name": "python",
   "nbconvert_exporter": "python",
   "pygments_lexer": "ipython3",
   "version": "3.12.4"
  }
 },
 "nbformat": 4,
 "nbformat_minor": 2
}
