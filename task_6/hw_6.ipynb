{
 "cells": [
  {
   "cell_type": "markdown",
   "metadata": {},
   "source": [
    "# Вариант 7. Толщина кожной складки всех студентов первого курса.\n",
    "\n",
    "Данные из файла Volgmed_2013.xls (конкретные данные выбрать \n",
    "в соответствии с вариантом) очистить от выбросов и пропусков, \n",
    "аппроксимировать наилучшей смесью нормальных в соответствии с \n",
    "байесовским информационным критерием.\n",
    "\n",
    "На основании асимптотического критерия отношения правдоподобия \n",
    "найти пи-значение смеси, в которой число нормальных компонент больше на 1, \n",
    "относительно наилучшей смеси.\n",
    "\n",
    "Протестировать соответствие данных и наилучшей смеси \n",
    "по критерию Колмогорова—Смирнова: оценить параметры \\\n",
    "а) по первой половине наблюдений; \\\n",
    "б) по второй половине наблюдений; \\\n",
    "в) дважды по случайно выбранной половине наблюдений; \\\n",
    "вычислить пи-значения по оставшимся наблюдениям.\n",
    "\n",
    "Вывести плотность распределения полученной аппроксимации вместе с гистограммой, \n",
    "а ее функцию распределения вместе с эмпирической функцией распределения."
   ]
  },
  {
   "cell_type": "code",
   "execution_count": 1,
   "metadata": {},
   "outputs": [],
   "source": [
    "import warnings\n",
    "from pathlib import Path\n",
    "\n",
    "import matplotlib.pyplot as plt\n",
    "import numpy as np\n",
    "import pandas as pd\n",
    "import scipy.stats as stats\n",
    "import seaborn as sns\n",
    "from sklearn.mixture import GaussianMixture\n",
    "\n",
    "warnings.filterwarnings(\"ignore\")\n",
    "\n",
    "N_MODELS = 3"
   ]
  },
  {
   "cell_type": "code",
   "execution_count": 2,
   "metadata": {},
   "outputs": [
    {
     "data": {
      "text/html": [
       "<div>\n",
       "<style scoped>\n",
       "    .dataframe tbody tr th:only-of-type {\n",
       "        vertical-align: middle;\n",
       "    }\n",
       "\n",
       "    .dataframe tbody tr th {\n",
       "        vertical-align: top;\n",
       "    }\n",
       "\n",
       "    .dataframe thead th {\n",
       "        text-align: right;\n",
       "    }\n",
       "</style>\n",
       "<table border=\"1\" class=\"dataframe\">\n",
       "  <thead>\n",
       "    <tr style=\"text-align: right;\">\n",
       "      <th></th>\n",
       "      <th>№ п/п</th>\n",
       "      <th>Год рождения</th>\n",
       "      <th>Факультет</th>\n",
       "      <th>Курс</th>\n",
       "      <th>Группа</th>\n",
       "      <th>Год поступления</th>\n",
       "      <th>Дата обследования</th>\n",
       "      <th>Рост, см</th>\n",
       "      <th>Вес, кг</th>\n",
       "      <th>Окружность грудной клетки в покое, см</th>\n",
       "      <th>...</th>\n",
       "      <th>Гибкость, см</th>\n",
       "      <th>Время 10 хлопков, с</th>\n",
       "      <th>Прыжок в длину с места, см</th>\n",
       "      <th>Челночный бег, с</th>\n",
       "      <th>Силовой норматив, ед</th>\n",
       "      <th>Бег 100 м, с</th>\n",
       "      <th>Бег 2-3 км, мин</th>\n",
       "      <th>Статическая  выносливость, с</th>\n",
       "      <th>Задержка дыхания, с</th>\n",
       "      <th>Равновесие, с</th>\n",
       "    </tr>\n",
       "    <tr>\n",
       "      <th>Пол</th>\n",
       "      <th></th>\n",
       "      <th></th>\n",
       "      <th></th>\n",
       "      <th></th>\n",
       "      <th></th>\n",
       "      <th></th>\n",
       "      <th></th>\n",
       "      <th></th>\n",
       "      <th></th>\n",
       "      <th></th>\n",
       "      <th></th>\n",
       "      <th></th>\n",
       "      <th></th>\n",
       "      <th></th>\n",
       "      <th></th>\n",
       "      <th></th>\n",
       "      <th></th>\n",
       "      <th></th>\n",
       "      <th></th>\n",
       "      <th></th>\n",
       "      <th></th>\n",
       "    </tr>\n",
       "  </thead>\n",
       "  <tbody>\n",
       "    <tr>\n",
       "      <th>жен</th>\n",
       "      <td>104.0</td>\n",
       "      <td>1981.0</td>\n",
       "      <td>лечебный</td>\n",
       "      <td>1.0</td>\n",
       "      <td>NaN</td>\n",
       "      <td>1999</td>\n",
       "      <td>2000-05-01</td>\n",
       "      <td>176</td>\n",
       "      <td>74.5</td>\n",
       "      <td>90</td>\n",
       "      <td>...</td>\n",
       "      <td>22</td>\n",
       "      <td>6.6</td>\n",
       "      <td>155</td>\n",
       "      <td>26</td>\n",
       "      <td>38</td>\n",
       "      <td>17.7</td>\n",
       "      <td>8.7</td>\n",
       "      <td>140</td>\n",
       "      <td>59.0</td>\n",
       "      <td>90.0</td>\n",
       "    </tr>\n",
       "    <tr>\n",
       "      <th>жен</th>\n",
       "      <td>104.0</td>\n",
       "      <td>1981.0</td>\n",
       "      <td>лечебный</td>\n",
       "      <td>3.0</td>\n",
       "      <td>NaN</td>\n",
       "      <td>1999</td>\n",
       "      <td>2002-05-01</td>\n",
       "      <td>176</td>\n",
       "      <td>74</td>\n",
       "      <td>90</td>\n",
       "      <td>...</td>\n",
       "      <td>23</td>\n",
       "      <td>6.5</td>\n",
       "      <td>158</td>\n",
       "      <td>25</td>\n",
       "      <td>47</td>\n",
       "      <td>18.7</td>\n",
       "      <td>6.58</td>\n",
       "      <td>144</td>\n",
       "      <td>68.0</td>\n",
       "      <td>90.0</td>\n",
       "    </tr>\n",
       "    <tr>\n",
       "      <th>NaN</th>\n",
       "      <td>NaN</td>\n",
       "      <td>NaN</td>\n",
       "      <td>NaN</td>\n",
       "      <td>NaN</td>\n",
       "      <td>NaN</td>\n",
       "      <td>NaN</td>\n",
       "      <td>NaT</td>\n",
       "      <td>NaN</td>\n",
       "      <td>NaN</td>\n",
       "      <td>NaN</td>\n",
       "      <td>...</td>\n",
       "      <td>NaN</td>\n",
       "      <td>NaN</td>\n",
       "      <td>NaN</td>\n",
       "      <td>NaN</td>\n",
       "      <td>NaN</td>\n",
       "      <td>NaN</td>\n",
       "      <td>NaN</td>\n",
       "      <td>NaN</td>\n",
       "      <td>NaN</td>\n",
       "      <td>NaN</td>\n",
       "    </tr>\n",
       "    <tr>\n",
       "      <th>NaN</th>\n",
       "      <td>NaN</td>\n",
       "      <td>NaN</td>\n",
       "      <td>NaN</td>\n",
       "      <td>NaN</td>\n",
       "      <td>NaN</td>\n",
       "      <td>NaN</td>\n",
       "      <td>NaT</td>\n",
       "      <td>NaN</td>\n",
       "      <td>NaN</td>\n",
       "      <td>NaN</td>\n",
       "      <td>...</td>\n",
       "      <td>NaN</td>\n",
       "      <td>NaN</td>\n",
       "      <td>NaN</td>\n",
       "      <td>NaN</td>\n",
       "      <td>NaN</td>\n",
       "      <td>NaN</td>\n",
       "      <td>NaN</td>\n",
       "      <td>NaN</td>\n",
       "      <td>NaN</td>\n",
       "      <td>NaN</td>\n",
       "    </tr>\n",
       "    <tr>\n",
       "      <th>NaN</th>\n",
       "      <td>NaN</td>\n",
       "      <td>NaN</td>\n",
       "      <td>NaN</td>\n",
       "      <td>NaN</td>\n",
       "      <td>NaN</td>\n",
       "      <td>NaN</td>\n",
       "      <td>NaT</td>\n",
       "      <td>NaN</td>\n",
       "      <td>NaN</td>\n",
       "      <td>NaN</td>\n",
       "      <td>...</td>\n",
       "      <td>NaN</td>\n",
       "      <td>NaN</td>\n",
       "      <td>NaN</td>\n",
       "      <td>NaN</td>\n",
       "      <td>NaN</td>\n",
       "      <td>NaN</td>\n",
       "      <td>NaN</td>\n",
       "      <td>NaN</td>\n",
       "      <td>NaN</td>\n",
       "      <td>NaN</td>\n",
       "    </tr>\n",
       "  </tbody>\n",
       "</table>\n",
       "<p>5 rows × 27 columns</p>\n",
       "</div>"
      ],
      "text/plain": [
       "     № п/п  Год рождения Факультет  Курс  Группа Год поступления  \\\n",
       "Пол                                                                \n",
       "жен  104.0        1981.0  лечебный   1.0     NaN            1999   \n",
       "жен  104.0        1981.0  лечебный   3.0     NaN            1999   \n",
       "NaN    NaN           NaN       NaN   NaN     NaN             NaN   \n",
       "NaN    NaN           NaN       NaN   NaN     NaN             NaN   \n",
       "NaN    NaN           NaN       NaN   NaN     NaN             NaN   \n",
       "\n",
       "    Дата обследования Рост, см Вес, кг Окружность грудной клетки в покое, см  \\\n",
       "Пол                                                                            \n",
       "жен        2000-05-01      176    74.5                                    90   \n",
       "жен        2002-05-01      176      74                                    90   \n",
       "NaN               NaT      NaN     NaN                                   NaN   \n",
       "NaN               NaT      NaN     NaN                                   NaN   \n",
       "NaN               NaT      NaN     NaN                                   NaN   \n",
       "\n",
       "     ... Гибкость, см Время 10 хлопков, с  Прыжок в длину с места, см  \\\n",
       "Пол  ...                                                                \n",
       "жен  ...           22                 6.6                         155   \n",
       "жен  ...           23                 6.5                         158   \n",
       "NaN  ...          NaN                 NaN                         NaN   \n",
       "NaN  ...          NaN                 NaN                         NaN   \n",
       "NaN  ...          NaN                 NaN                         NaN   \n",
       "\n",
       "    Челночный бег, с  Силовой норматив, ед  Бег 100 м, с Бег 2-3 км, мин  \\\n",
       "Пол                                                                        \n",
       "жен               26                    38          17.7             8.7   \n",
       "жен               25                    47          18.7            6.58   \n",
       "NaN              NaN                   NaN           NaN             NaN   \n",
       "NaN              NaN                   NaN           NaN             NaN   \n",
       "NaN              NaN                   NaN           NaN             NaN   \n",
       "\n",
       "    Статическая  выносливость, с Задержка дыхания, с Равновесие, с  \n",
       "Пол                                                                 \n",
       "жен                          140                59.0          90.0  \n",
       "жен                          144                68.0          90.0  \n",
       "NaN                          NaN                 NaN           NaN  \n",
       "NaN                          NaN                 NaN           NaN  \n",
       "NaN                          NaN                 NaN           NaN  \n",
       "\n",
       "[5 rows x 27 columns]"
      ]
     },
     "execution_count": 2,
     "metadata": {},
     "output_type": "execute_result"
    }
   ],
   "source": [
    "filepath = Path(\"Volgmed_2013.xlsx\")\n",
    "\n",
    "df_input = pd.read_excel(filepath, index_col=1, header=1)\n",
    "df_input.head()"
   ]
  },
  {
   "cell_type": "code",
   "execution_count": 3,
   "metadata": {},
   "outputs": [
    {
     "data": {
      "text/plain": [
       "Index(['№ п/п', 'Год рождения', 'Факультет', 'Курс', 'Группа',\n",
       "       'Год поступления', 'Дата обследования', 'Рост, см', 'Вес, кг',\n",
       "       'Окружность грудной клетки в покое, см',\n",
       "       'Окружность грудной клетки на вдохе, см',\n",
       "       'Окружность грудной клетки на выдохе, см',\n",
       "       'Экскурсия грудной клетки, см', 'Толщина кожной складки, мм',\n",
       "       'Сила правой руки, кг', 'Сила левой руки, кг', 'Становая сила, кг',\n",
       "       'Гибкость, см', 'Время 10 хлопков, с', 'Прыжок в длину с места, см',\n",
       "       'Челночный бег, с', 'Силовой норматив, ед', 'Бег 100 м, с',\n",
       "       'Бег 2-3 км, мин', 'Статическая  выносливость, с',\n",
       "       'Задержка дыхания, с', 'Равновесие, с'],\n",
       "      dtype='object')"
      ]
     },
     "execution_count": 3,
     "metadata": {},
     "output_type": "execute_result"
    }
   ],
   "source": [
    "df_input.columns"
   ]
  },
  {
   "cell_type": "code",
   "execution_count": 4,
   "metadata": {},
   "outputs": [
    {
     "data": {
      "text/plain": [
       "0         16\n",
       "1       11.5\n",
       "2        8.5\n",
       "3       13.5\n",
       "4       14.5\n",
       "        ... \n",
       "1045       9\n",
       "1046       8\n",
       "1047       7\n",
       "1048       8\n",
       "1049       6\n",
       "Name: Толщина кожной складки, мм, Length: 1050, dtype: object"
      ]
     },
     "execution_count": 4,
     "metadata": {},
     "output_type": "execute_result"
    }
   ],
   "source": [
    "data = df_input[df_input[\"Курс\"] == 1][\"Толщина кожной складки, мм\"]\n",
    "data.reset_index(drop=True, inplace=True)\n",
    "data"
   ]
  },
  {
   "cell_type": "code",
   "execution_count": 5,
   "metadata": {},
   "outputs": [
    {
     "data": {
      "text/plain": [
       "0         16\n",
       "1       11.5\n",
       "2        8.5\n",
       "3       13.5\n",
       "4       14.5\n",
       "        ... \n",
       "1045       9\n",
       "1046       8\n",
       "1047       7\n",
       "1048       8\n",
       "1049       6\n",
       "Name: Толщина кожной складки, мм, Length: 998, dtype: object"
      ]
     },
     "execution_count": 5,
     "metadata": {},
     "output_type": "execute_result"
    }
   ],
   "source": [
    "q1 = data.quantile(0.25)\n",
    "q3 = data.quantile(0.75)\n",
    "iqr = q3 - q1\n",
    "\n",
    "lower_bound = q1 - 1.5 * iqr\n",
    "upper_bound = q3 + 1.5 * iqr\n",
    "\n",
    "outliers = data[(data < lower_bound) | (data > upper_bound)]\n",
    "\n",
    "data = data.drop(outliers.index).dropna()\n",
    "data"
   ]
  },
  {
   "cell_type": "code",
   "execution_count": 6,
   "metadata": {},
   "outputs": [
    {
     "name": "stdout",
     "output_type": "stream",
     "text": [
      "Лучшее число компонент: 2\n"
     ]
    },
    {
     "data": {
      "image/png": "[encoded data removed]",
      "text/plain": [
       "<Figure size 1200x600 with 2 Axes>"
      ]
     },
     "metadata": {},
     "output_type": "display_data"
    }
   ],
   "source": [
    "def get_gmm_params_amount(n_components: int) -> int:\n",
    "    \"\"\"Возвращает количество параметров в зависимости от количества компонент в смеси нормальных распределений\"\"\"\n",
    "    assert n_components > 0, \"n_components should be greater than 0\"\n",
    "    return 3 * n_components - 1\n",
    "\n",
    "\n",
    "def bic(n_params: int, sample_size: int, log_likelihood: float) -> float:\n",
    "    \"\"\"Считает значение критерия BIC для модели\n",
    "\n",
    "    Args:\n",
    "        n_params: количество параметров в модели\n",
    "        sample_size: размер выборки\n",
    "        log_likelihood: значение логарифма правдоподобия\n",
    "\n",
    "    Returns:\n",
    "        Значение критерия BIC\n",
    "    \"\"\"\n",
    "    return n_params * np.log(sample_size) - 2 * log_likelihood\n",
    "\n",
    "\n",
    "def make_report(n_components: int, log_likelihood: float, bic: float) -> str:\n",
    "    \"\"\"Формирует отчет о модели\"\"\"\n",
    "    report = f\"Число компонент: {n_components},\\nЛогарифм правдоподобия: {log_likelihood:.2f},\\nBIC: {bic:.2f}.\\n\"\n",
    "    return report\n",
    "\n",
    "\n",
    "def plot_components(gmm: GaussianMixture, x: np.ndarray) -> None:\n",
    "    \"\"\"Строит графики компонент смеси\"\"\"\n",
    "    means = gmm.means_.flatten()\n",
    "    covs = gmm.covariances_.flatten()\n",
    "    weights = gmm.weights_\n",
    "\n",
    "    for i, (mean, cov, weight) in enumerate(zip(means, covs, weights), start=1):\n",
    "        y = weight * stats.norm.pdf(x, mean, np.sqrt(cov))\n",
    "        plt.plot(x, y, label=f\"Компонента {i}\")\n",
    "\n",
    "\n",
    "models = []\n",
    "for n_components in range(1, N_MODELS + 1):\n",
    "    gmm = GaussianMixture(n_components, random_state=42)\n",
    "    gmm.fit(data.values.reshape(-1, 1))\n",
    "\n",
    "    gmm_n_params = get_gmm_params_amount(n_components)\n",
    "    log_likelihood = gmm.score_samples(data.values.reshape(-1, 1)).sum()\n",
    "    bic_value = bic(gmm_n_params, len(data), log_likelihood)\n",
    "\n",
    "    models.append(\n",
    "        {\n",
    "            \"model\": gmm,\n",
    "            \"n_components\": n_components,\n",
    "            \"n_params\": gmm_n_params,\n",
    "            \"log_likelihood\": log_likelihood,\n",
    "            \"bic\": bic_value,\n",
    "        }\n",
    "    )\n",
    "\n",
    "best_model = min(models, key=lambda x: x[\"bic\"])\n",
    "print(f\"Лучшее число компонент: {best_model[\"n_components\"]}\")\n",
    "\n",
    "x = np.linspace(data.min(), data.max(), 2000)\n",
    "log_likelihoods = np.exp([best_model[\"model\"].score_samples(e.reshape(-1, 1)) for e in x])\n",
    "\n",
    "plt.figure(figsize=(12, 6))\n",
    "\n",
    "plt.subplot(1, 2, 1)\n",
    "sns.histplot(data, stat=\"density\", fill=False).set_title(\"Гистограмма\")\n",
    "plot_components(best_model[\"model\"], x)\n",
    "plt.plot(x, log_likelihoods, color=\"black\", label=\"Смесь\")\n",
    "plt.legend()\n",
    "\n",
    "plt.subplot(1, 2, 2)\n",
    "sns.ecdfplot(data, label=\"Эмпирическая\").set_title(\n",
    "    \"Функция плотности распределения\"\n",
    ")\n",
    "plt.plot(\n",
    "    x,\n",
    "    np.cumsum(log_likelihoods) / np.sum(log_likelihoods),\n",
    "    label=f\"{best_model[\"n_components\"]} компоненты\",\n",
    ")\n",
    "plt.legend()\n",
    "\n",
    "plt.show()"
   ]
  },
  {
   "cell_type": "code",
   "execution_count": 7,
   "metadata": {},
   "outputs": [
    {
     "name": "stdout",
     "output_type": "stream",
     "text": [
      "p-value смеси с числом компонент больше на 1: 0.013293856596704933\n"
     ]
    }
   ],
   "source": [
    "def log_likelihood_ratio(ll_1: float, ll_2: float) -> float:\n",
    "    \"\"\"Считает отношение логарифмов правдоподобия\"\"\"\n",
    "    return 2 * (ll_2 - ll_1)\n",
    "\n",
    "\n",
    "n_components_best = best_model[\"n_components\"]\n",
    "next_model = models[n_components_best]\n",
    "\n",
    "llr = log_likelihood_ratio(best_model[\"log_likelihood\"], next_model[\"log_likelihood\"])\n",
    "param_diff = abs(best_model[\"n_params\"] - next_model[\"n_params\"])\n",
    "p_value = stats.chi2.sf(llr, param_diff)\n",
    "\n",
    "print(f\"p-value смеси с числом компонент больше на 1: {p_value}\")"
   ]
  },
  {
   "cell_type": "code",
   "execution_count": 8,
   "metadata": {},
   "outputs": [],
   "source": [
    "def ks1_asympt(cdf_data):\n",
    "    # Из лекции\n",
    "    n = len(cdf_data)\n",
    "    cdf_data.sort()\n",
    "    D_n = 0\n",
    "    for i in range(n):\n",
    "        if max(abs(cdf_data[i] - i / n), abs(cdf_data[i] - (i - 1) / n)) > D_n:\n",
    "            D_n = max(abs(cdf_data[i] - i / n), abs(cdf_data[i] - (i - 1) / n))\n",
    "    return stats.kstwobign.sf(n**0.5 * D_n)\n",
    "\n",
    "\n",
    "data_xuy = data.astype(float)\n",
    "data_xuy.reset_index(drop=True, inplace=True)"
   ]
  },
  {
   "cell_type": "code",
   "execution_count": 9,
   "metadata": {},
   "outputs": [
    {
     "name": "stdout",
     "output_type": "stream",
     "text": [
      "0.00000000000000000000\n"
     ]
    }
   ],
   "source": [
    "data_1 = data_xuy[:round(len(data) / 2)]\n",
    "data_2 = data_xuy[round(len(data) / 2):]\n",
    "cdf_data = np.zeros(len(data_2))\n",
    "\n",
    "best_model = min(models, key=lambda x: x[\"bic\"])[\"model\"]\n",
    "for mu, sd, p in zip(\n",
    "    best_model.means_.flatten(), best_model.covariances_.flatten(), best_model.weights_\n",
    "):\n",
    "    cdf_data += p * stats.norm(mu, sd).cdf(data_2)\n",
    "\n",
    "print(\"{:.20f}\".format(ks1_asympt(cdf_data)))"
   ]
  },
  {
   "cell_type": "code",
   "execution_count": 10,
   "metadata": {},
   "outputs": [
    {
     "name": "stdout",
     "output_type": "stream",
     "text": [
      "0.00000000000000000000\n"
     ]
    }
   ],
   "source": [
    "data_1 = data_xuy[round(len(data) / 2):]\n",
    "data_2 = data_xuy[:round(len(data) / 2)]\n",
    "cdf_data = np.zeros(len(data_2))\n",
    "\n",
    "best_model = min(models, key=lambda x: x[\"bic\"])[\"model\"]\n",
    "for mu, sd, p in zip(\n",
    "    best_model.means_.flatten(), best_model.covariances_.flatten(), best_model.weights_\n",
    "):\n",
    "    cdf_data += p * stats.norm(mu, sd).cdf(data_2)\n",
    "\n",
    "print(\"{:.20f}\".format(ks1_asympt(cdf_data)))"
   ]
  },
  {
   "cell_type": "code",
   "execution_count": 11,
   "metadata": {},
   "outputs": [],
   "source": [
    "np.random.shuffle(data_xuy)"
   ]
  },
  {
   "cell_type": "code",
   "execution_count": 12,
   "metadata": {},
   "outputs": [
    {
     "name": "stdout",
     "output_type": "stream",
     "text": [
      "0.00000000000000000000\n"
     ]
    }
   ],
   "source": [
    "data_1 = data_xuy[:round(len(data) / 2)]\n",
    "data_2 = data_xuy[round(len(data) / 2):]\n",
    "cdf_data = np.zeros(len(data_2))\n",
    "\n",
    "best_model = min(models, key=lambda x: x[\"bic\"])[\"model\"]\n",
    "for mu, sd, p in zip(\n",
    "    best_model.means_.flatten(), best_model.covariances_.flatten(), best_model.weights_\n",
    "):\n",
    "    cdf_data += p * stats.norm(mu, sd).cdf(data_2)\n",
    "\n",
    "print(\"{:.20f}\".format(ks1_asympt(cdf_data)))"
   ]
  },
  {
   "cell_type": "code",
   "execution_count": 13,
   "metadata": {},
   "outputs": [],
   "source": [
    "np.random.shuffle(data_xuy)"
   ]
  },
  {
   "cell_type": "code",
   "execution_count": 14,
   "metadata": {},
   "outputs": [
    {
     "name": "stdout",
     "output_type": "stream",
     "text": [
      "0.00000000000000000001\n"
     ]
    }
   ],
   "source": [
    "data_1 = data_xuy[round(len(data) / 2):]\n",
    "data_2 = data_xuy[:round(len(data) / 2)]\n",
    "cdf_data = np.zeros(len(data_2))\n",
    "\n",
    "best_model = min(models, key=lambda x: x[\"bic\"])[\"model\"]\n",
    "for mu, sd, p in zip(\n",
    "    best_model.means_.flatten(), best_model.covariances_.flatten(), best_model.weights_\n",
    "):\n",
    "    cdf_data += p * stats.norm(mu, sd).cdf(data_2)\n",
    "\n",
    "print(\"{:.20f}\".format(ks1_asympt(cdf_data)))"
   ]
  }
 ],
 "metadata": {
  "kernelspec": {
   "display_name": ".venv",
   "language": "python",
   "name": "python3"
  },
  "language_info": {
   "codemirror_mode": {
    "name": "ipython",
    "version": 3
   },
   "file_extension": ".py",
   "mimetype": "text/x-python",
   "name": "python",
   "nbconvert_exporter": "python",
   "pygments_lexer": "ipython3",
   "version": "3.12.4"
  }
 },
 "nbformat": 4,
 "nbformat_minor": 2
}
