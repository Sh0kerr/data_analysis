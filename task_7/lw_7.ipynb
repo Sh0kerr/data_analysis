{
 "cells": [
  {
   "cell_type": "markdown",
   "metadata": {},
   "source": [
    "# Вариант 7\n",
    "1. Выбрать данные в соответствии с вариантом и построить \\\n",
    "двумерные диаграммы рассеяния с раскраской по классам.\n",
    "2. Построить диаграммы рассеяния в координатах \\\n",
    "главных компонент с раскраской по классам.\n",
    "3. Построить график зависимости доли \\\n",
    "объясненной дисперсии от номера главной компоненты."
   ]
  },
  {
   "cell_type": "code",
   "execution_count": null,
   "metadata": {
    "vscode": {
     "languageId": "plaintext"
    }
   },
   "outputs": [],
   "source": []
  }
 ],
 "metadata": {
  "language_info": {
   "name": "python"
  }
 },
 "nbformat": 4,
 "nbformat_minor": 2
}
